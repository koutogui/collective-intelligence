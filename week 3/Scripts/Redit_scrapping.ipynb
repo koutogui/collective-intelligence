{
  "nbformat": 4,
  "nbformat_minor": 0,
  "metadata": {
    "colab": {
      "provenance": []
    },
    "kernelspec": {
      "name": "python3",
      "display_name": "Python 3"
    },
    "language_info": {
      "name": "python"
    }
  },
  "cells": [
    {
      "cell_type": "code",
      "execution_count": 1,
      "metadata": {
        "colab": {
          "base_uri": "https://localhost:8080/"
        },
        "id": "w7xKkDm9IT_u",
        "outputId": "be772dda-2863-47e1-d206-bae289d627cd"
      },
      "outputs": [
        {
          "output_type": "stream",
          "name": "stdout",
          "text": [
            "Looking in indexes: https://pypi.org/simple, https://us-python.pkg.dev/colab-wheels/public/simple/\n",
            "Collecting praw\n",
            "  Downloading praw-7.6.0-py3-none-any.whl (188 kB)\n",
            "\u001b[K     |████████████████████████████████| 188 kB 4.3 MB/s \n",
            "\u001b[?25hCollecting websocket-client>=0.54.0\n",
            "  Downloading websocket_client-1.4.1-py3-none-any.whl (55 kB)\n",
            "\u001b[K     |████████████████████████████████| 55 kB 3.6 MB/s \n",
            "\u001b[?25hCollecting prawcore<3,>=2.1\n",
            "  Downloading prawcore-2.3.0-py3-none-any.whl (16 kB)\n",
            "Collecting update-checker>=0.18\n",
            "  Downloading update_checker-0.18.0-py3-none-any.whl (7.0 kB)\n",
            "Requirement already satisfied: requests<3.0,>=2.6.0 in /usr/local/lib/python3.7/dist-packages (from prawcore<3,>=2.1->praw) (2.23.0)\n",
            "Requirement already satisfied: idna<3,>=2.5 in /usr/local/lib/python3.7/dist-packages (from requests<3.0,>=2.6.0->prawcore<3,>=2.1->praw) (2.10)\n",
            "Requirement already satisfied: certifi>=2017.4.17 in /usr/local/lib/python3.7/dist-packages (from requests<3.0,>=2.6.0->prawcore<3,>=2.1->praw) (2022.9.24)\n",
            "Requirement already satisfied: chardet<4,>=3.0.2 in /usr/local/lib/python3.7/dist-packages (from requests<3.0,>=2.6.0->prawcore<3,>=2.1->praw) (3.0.4)\n",
            "Requirement already satisfied: urllib3!=1.25.0,!=1.25.1,<1.26,>=1.21.1 in /usr/local/lib/python3.7/dist-packages (from requests<3.0,>=2.6.0->prawcore<3,>=2.1->praw) (1.24.3)\n",
            "Installing collected packages: websocket-client, update-checker, prawcore, praw\n",
            "Successfully installed praw-7.6.0 prawcore-2.3.0 update-checker-0.18.0 websocket-client-1.4.1\n"
          ]
        }
      ],
      "source": [
        "pip install praw"
      ]
    },
    {
      "cell_type": "code",
      "source": [
        "import praw"
      ],
      "metadata": {
        "id": "3qOi53HfIh_q"
      },
      "execution_count": 2,
      "outputs": []
    },
    {
      "cell_type": "code",
      "source": [
        "reddit = praw.Reddit(client_id='MYF7MYYXQH9mdQ6aa0wwLg', client_secret='pzSvx6AglW7ItDgivVtpYatzDxungg', user_agent='dataScienceSCI')"
      ],
      "metadata": {
        "id": "zl6qMtcOInXn"
      },
      "execution_count": 6,
      "outputs": []
    },
    {
      "cell_type": "code",
      "source": [
        "# get 10 hot posts from the MachineLearning subreddit\n",
        "hot_posts = reddit.subreddit('Morocco').hot(limit=100)\n",
        "for post in hot_posts:\n",
        "    print(post.title)"
      ],
      "metadata": {
        "colab": {
          "base_uri": "https://localhost:8080/"
        },
        "id": "EOfEEPhOJAMu",
        "outputId": "b98af3b5-7252-480e-a900-055d6d486c27"
      },
      "execution_count": 9,
      "outputs": [
        {
          "output_type": "stream",
          "name": "stderr",
          "text": [
            "WARNING:praw:It appears that you are using PRAW in an asynchronous environment.\n",
            "It is strongly recommended to use Async PRAW: https://asyncpraw.readthedocs.io.\n",
            "See https://praw.readthedocs.io/en/latest/getting_started/multiple_instances.html#discord-bots-and-asynchronous-environments for more info.\n",
            "\n"
          ]
        },
        {
          "output_type": "stream",
          "name": "stdout",
          "text": [
            "A shop in Tanger is quoting me 2500 dirhams for this mirror. Shipping not included. I’m back in the states, so this is virtual negotiating. He won’t go lower. Thoughts?\n",
            "The Moroccan ex-king Mohamed 5th with Walt Disney in the united state.\n",
            "I present to you the FI-01 Fibula, a starship inspired by the Amazigh culture\n",
            "THERE IS A MOROCCAN DESIGN ON THE FLOOR OF THE PLACE BETWEEN UNIVERSES IN Doctor strange'S LATEST MOVIE.\n",
            "r/Morocco, you are awesome!\n",
            "Best grocery delivery app iyo\n",
            "Fes to Marrakech flight reliability\n",
            "Morocco on 35mm film from my first trip October 2022\n",
            "Is vaping a thing in Morocco?\n",
            "What are the things in Morocco that everyone is aware of but no one talks about ?\n",
            "Getting into Morocco without passport\n",
            "Marvel fans in Morocco\n",
            "I need a legal advice m lost\n",
            "Why as a people are we so quick to accept problematic age gaps in relationships?\n",
            "guys, does anybody have an idea about making an ocular prosthesis in morocco ( idea, recommendations, feedback...)\n",
            "Can Moroccans travel to the Dominican Republic without a visa?\n",
            "Visiting Agadir in November\n",
            "Any Moroccan digital artists?\n",
            "what is happiness ? a taxi driver is mentoring a frensh tourist\n",
            "International travel with pets\n",
            "Is this how customer service is in Morocco??\n",
            "The Lost Jewish Communities of the Arab World\n",
            "You think our \"democracy\" maybe better than Turkey's ?\n",
            "What are some restaurants/eating experiences to try in Marrakech?\n",
            "Do you find it annoying that some diaspora romanticize Morocco? Do you think Morocco would benifit from some western diaspora returning to Morocco?\n",
            "Billionaire Adani to Target Europe With Huge Morocco Clean Energy Project - Gautam Adani, Asia’s richest person, is in exploratory talks for a giant renewables project in Morocco.\n",
            "Beautiful Handmade Paintings by Moroccan Artists\n",
            "How to make money online ?\n",
            "Tin painted plaques from Marrakech\n",
            "Got a question about IMAX in Morocco Mall\n",
            "Hi i need some help about a scam\n",
            "Any moroccan streaming platforms/ websites out there ?\n",
            "BP stripe visa card can't receive payments?\n",
            "the Moroccan military budget for 2023 will surpass 18 billion dollars for the first time in history\n",
            "I'm worried the company where i work might be trying to do malpractice.\n",
            "2 Nights in Nature - Near Fes?\n",
            "Secular or atheist therapist in Tanger?\n",
            "Ideas of respect, cultural clashes, foreigners and their expectations\n",
            "MOVED OUT TO TANGER AND TRYING TO FIND A JOB\n",
            "Tajine on induction panel?\n",
            "One week in Morocco October 2022\n",
            "Halloween party casa\n",
            "Looks like english is getting integrated more and more in morocco.\n",
            "For people who are studying and working in the same time\n",
            "Bought this beautiful tray from a vintage shop in Essaouira. Was told it was from the 40’s. Does that seem right?\n",
            "Sick after swimming in Rabat\n",
            "The meaning of the word \"beckenbauer\"\n",
            "How to answer the \"imta ghatji ldarna\" question without hurting her feelings?\n",
            "Some Moroccan regional flags I found interesting.\n",
            "How can I improve my communication skills?\n",
            "The Moroccan Mafia is terrorizing Netherlands to free it's leader\n",
            "Tanger Marina Bay ⛵️\n",
            "How to relearn Moroccan/Darija\n",
            "In the Spirit of the Halloween season, what are some local urban legends, scary stories, personal true horror that you can share (that happened in Morocco)\n",
            "It's still summer time here\n",
            "Are there any chiropractors in Laayoune?\n",
            "Morocco is the only MENA country with an actual independent history.\n",
            "Moroccan locals or experienced veterans\n",
            "Studying outside of Morocco\n",
            "Orphanage in Casablanca\n",
            "Is Facebook dead…..??\n",
            "Part time for 23 yo Student\n",
            "Finances and other responsabilities within marriage in Morocco\n",
            "French man gets offended by Moroccan woman in a burkini …in Morocco\n",
            "دور الشيخ و المقدم بالمغرب\n",
            "Any libraries in Tangier ?\n",
            "What is the best van service to move zellige work from fes to London?\n",
            "Invisalign treatement in Morocco\n",
            "vintage/second-hand/unique clothing stores in Rabat/Salé\n",
            "Can I bring perscription adderall into Morocco?\n",
            "For All Future Graduates, Life Is Not Easy Man !\n",
            "Is Soussi language also called Chleuh, or is that only in the Atlas?\n",
            "concerning studies at prepa !\n",
            "If they ever start teaching scientific subjects in English what will happen to current teachers and how long would it take to get integrated?\n",
            "Taxi fares and safety in Morocco\n",
            "Should I travel the coast of Morocco or inland?\n",
            "About the Heetch/indriver vs Taxis debate.\n",
            "My fellow customers service employees\n",
            "Tramway rails and the forgotten rabat ville station\n",
            "Bread and olive oil has always been an integral part of my breakfast, what about you guys? (I made this render with blender)\n",
            "Shipping Gold Products Out Of Morocco\n",
            "Looking for work as a student\n",
            "Why does this make me outrageous, someone close to these families care to explain? I know its cheaper in ukrain but I dont think the living costs are, and what about the failure in admission test they took for med students?\n",
            "Is there somebody from Chefchaouen who can help me find my girlfriend's favorite parfume oil?\n",
            "Remastered version of \"Ali Zaoua\" is set to be screening in cinemas starting from the 24th of October\n",
            "Atlas Mountains during my last stay in Morocco back in May.\n",
            "Integration Party ENCG Kenitra 2022\n",
            "How do you deal with horrible service in Morocco?\n",
            "Marrakech at dawn - 2022 - Sony ZV-1\n",
            "Sidi 9assem, al 9al3a, Berkane...???\n",
            "Morocco Sets Up Budget of Nearly $11 Billion for Defense in 2023\n",
            "Where I can get Springer or O'Reilly books in Morocco? or what is the best way to ship it to Morocco?\n",
            "Which Arabic/Rai song do you connect with the most?\n",
            "Donating blood in Morocco as a tourist?\n",
            "arabic musique recommendations ??\n",
            "A Friend wants to send me something from the US will it be delivered or get stopped by the الجمارك ?\n",
            "About Studying abroad\n",
            "Marrakesh in November\n",
            "Things to do by yourself in Casablanca\n",
            "Wydad Athletic Club.\n"
          ]
        }
      ]
    },
    {
      "cell_type": "markdown",
      "source": [
        "More organize way "
      ],
      "metadata": {
        "id": "RUKJMmLXKMiw"
      }
    },
    {
      "cell_type": "code",
      "source": [
        "import pandas as pd\n",
        "posts = []\n",
        "ml_subreddit = reddit.subreddit('Morocco')\n",
        "for post in ml_subreddit.hot(limit=100):\n",
        "    posts.append([post.title, post.score, post.id, post.subreddit, post.url, post.num_comments, post.selftext, post.created])\n",
        "posts = pd.DataFrame(posts,columns=['title', 'score', 'id', 'subreddit', 'url', 'num_comments', 'body', 'created'])\n",
        "print(posts)"
      ],
      "metadata": {
        "colab": {
          "base_uri": "https://localhost:8080/"
        },
        "id": "Hjf1ZQ55KPFt",
        "outputId": "91899474-f3e5-438e-fcaa-950d12d5d33d"
      },
      "execution_count": 10,
      "outputs": [
        {
          "output_type": "stream",
          "name": "stderr",
          "text": [
            "WARNING:praw:It appears that you are using PRAW in an asynchronous environment.\n",
            "It is strongly recommended to use Async PRAW: https://asyncpraw.readthedocs.io.\n",
            "See https://praw.readthedocs.io/en/latest/getting_started/multiple_instances.html#discord-bots-and-asynchronous-environments for more info.\n",
            "\n"
          ]
        },
        {
          "output_type": "stream",
          "name": "stdout",
          "text": [
            "                                                title  score      id  \\\n",
            "0   A shop in Tanger is quoting me 2500 dirhams fo...     62  yc9ror   \n",
            "1   The Moroccan ex-king Mohamed 5th with Walt Dis...     63  yc716h   \n",
            "2   I present to you the FI-01 Fibula, a starship ...     19  ycewgn   \n",
            "3   THERE IS A MOROCCAN DESIGN ON THE FLOOR OF THE...     39  yc65pp   \n",
            "4                         r/Morocco, you are awesome!    112  ybsk2e   \n",
            "..                                                ...    ...     ...   \n",
            "95  A Friend wants to send me something from the U...      3  y9vx67   \n",
            "96                              About Studying abroad      3  y9v1ef   \n",
            "97                              Marrakesh in November      2  y9xelj   \n",
            "98             Things to do by yourself in Casablanca      3  y9tzme   \n",
            "99                               Wydad Athletic Club.      0  ya20wq   \n",
            "\n",
            "   subreddit                                                url  num_comments  \\\n",
            "0    Morocco                https://i.redd.it/bcsugdlixqv91.jpg           112   \n",
            "1    Morocco                https://i.redd.it/1diijj986qv91.jpg            27   \n",
            "2    Morocco                    https://v.redd.it/9oe5ij9wzrv91             9   \n",
            "3    Morocco                https://i.redd.it/yqfoa1wuvpv91.jpg            28   \n",
            "4    Morocco  https://www.reddit.com/r/Morocco/comments/ybsk...            25   \n",
            "..       ...                                                ...           ...   \n",
            "95   Morocco  https://www.reddit.com/r/Morocco/comments/y9vx...            10   \n",
            "96   Morocco  https://www.reddit.com/r/Morocco/comments/y9v1...             8   \n",
            "97   Morocco  https://www.reddit.com/r/Morocco/comments/y9xe...             8   \n",
            "98   Morocco  https://www.reddit.com/r/Morocco/comments/y9tz...            26   \n",
            "99   Morocco  https://www.reddit.com/r/Morocco/comments/ya20...             4   \n",
            "\n",
            "                                                 body       created  \n",
            "0                                                      1.666614e+09  \n",
            "1                                                      1.666605e+09  \n",
            "2                                                      1.666627e+09  \n",
            "3                                                      1.666601e+09  \n",
            "4   I am Algerian and listen to Moroccan radio fre...  1.666558e+09  \n",
            "..                                                ...           ...  \n",
            "95  Title(and do i have to pay for it) an answer w...  1.666364e+09  \n",
            "96  Hello, I am a high school graduate and I wanna...  1.666362e+09  \n",
            "97  Hey gang, \\n\\nI am looking to go to  Marrakesh...  1.666368e+09  \n",
            "98  Ok I don’t have anyone to go out with, any act...  1.666360e+09  \n",
            "99  Tell me everything i need to know about wydad ...  1.666380e+09  \n",
            "\n",
            "[100 rows x 8 columns]\n"
          ]
        }
      ]
    },
    {
      "cell_type": "code",
      "source": [
        "#saving the list as dataframe\n",
        "#then converting into .csv file\n",
        "\n",
        "posts.to_csv('reddit.csv',index=False)"
      ],
      "metadata": {
        "id": "BumsWjyAKk0l"
      },
      "execution_count": 11,
      "outputs": []
    }
  ]
}